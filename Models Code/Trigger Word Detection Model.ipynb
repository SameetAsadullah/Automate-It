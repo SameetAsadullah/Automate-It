{
 "cells": [
  {
   "cell_type": "code",
   "execution_count": 4,
   "metadata": {},
   "outputs": [],
   "source": [
    "from preprocess import *\n",
    "import keras\n",
    "from keras.models import Sequential\n",
    "from keras.layers import Dense, Dropout, Flatten, Conv2D, MaxPooling2D, LSTM, GlobalAveragePooling2D\n",
    "from tensorflow.keras.utils import to_categorical\n",
    "import wandb\n",
    "from wandb.keras import WandbCallback\n",
    "import matplotlib.pyplot as plt\n",
    "import sklearn\n",
    "from imblearn.over_sampling import RandomOverSampler"
   ]
  },
  {
   "cell_type": "code",
   "execution_count": 5,
   "metadata": {},
   "outputs": [],
   "source": [
    "# path of dataset\n",
    "data_path = \"./data/Trigger Word Detection Dataset/Training Dataset/\"\n",
    "data_arrays_path = \"./data_arrays/Trigger Word Detection Dataset/Training Dataset/\"\n",
    "\n",
    "# assigning parameters for MFCC feature extraction\n",
    "max_len_nfft = 682\n",
    "n_mfcc = 128"
   ]
  },
  {
   "cell_type": "code",
   "execution_count": 3,
   "metadata": {},
   "outputs": [
    {
     "name": "stderr",
     "output_type": "stream",
     "text": [
      "Saving vectors of label - 'No Ruha': 100%|█████████████████████████████████████████| 1609/1609 [00:56<00:00, 28.36it/s]\n",
      "Saving vectors of label - 'Ruha': 100%|████████████████████████████████████████████| 6571/6571 [06:47<00:00, 16.13it/s]\n"
     ]
    }
   ],
   "source": [
    "# Saving data to array file\n",
    "save_data_to_array(data_path=data_path, data_arrays_path=data_arrays_path, max_len=max_len_nfft, n_mfcc=n_mfcc)"
   ]
  },
  {
   "cell_type": "code",
   "execution_count": 3,
   "metadata": {},
   "outputs": [
    {
     "name": "stdout",
     "output_type": "stream",
     "text": [
      "X_train:  (6544, 128, 682)\n",
      "X_test:  (1636, 128, 682)\n"
     ]
    }
   ],
   "source": [
    "# Loading train set and test set\n",
    "X_train, X_test, y_train, y_test = get_train_test(data_path=data_path, data_arrays_path=data_arrays_path, split_ratio=0.8)\n",
    "print(\"X_train: \", X_train.shape)\n",
    "print(\"X_test: \", X_test.shape)"
   ]
  },
  {
   "cell_type": "code",
   "execution_count": 4,
   "metadata": {},
   "outputs": [
    {
     "name": "stdout",
     "output_type": "stream",
     "text": [
      "X_train:  (10550, 128, 682)\ty_train:  (10550,)\n",
      "X_test:  (2592, 128, 682)\ty_test:  (2592,)\n"
     ]
    }
   ],
   "source": [
    "# define oversampling strategy\n",
    "oversample = RandomOverSampler(sampling_strategy='minority')\n",
    "\n",
    "# reshaping the data for oversampling\n",
    "X_train = X_train.reshape(X_train.shape[0], X_train.shape[1] * X_train.shape[2])\n",
    "X_test = X_test.reshape(X_test.shape[0], X_test.shape[1] * X_test.shape[2])\n",
    "\n",
    "# fit and apply the transform\n",
    "X_train, y_train = oversample.fit_resample(X_train, y_train)\n",
    "X_test, y_test = oversample.fit_resample(X_test, y_test)\n",
    "\n",
    "# converting it back to original shape\n",
    "X_train = X_train.reshape(X_train.shape[0], n_mfcc, max_len_nfft)\n",
    "X_test = X_test.reshape(X_test.shape[0], n_mfcc, max_len_nfft)\n",
    "\n",
    "print(\"X_train: \", X_train.shape, end='\\t')\n",
    "print(\"y_train: \", y_train.shape)\n",
    "print(\"X_test: \", X_test.shape, end='\\t')\n",
    "print(\"y_test: \", y_test.shape)"
   ]
  },
  {
   "cell_type": "code",
   "execution_count": 5,
   "metadata": {},
   "outputs": [
    {
     "name": "stdout",
     "output_type": "stream",
     "text": [
      "1.0\n"
     ]
    },
    {
     "data": {
      "image/png": "[encoded data removed]",
      "text/plain": [
       "<Figure size 432x288 with 1 Axes>"
      ]
     },
     "metadata": {
      "needs_background": "light"
     },
     "output_type": "display_data"
    }
   ],
   "source": [
    "plt.imshow(X_train[100, :, :])\n",
    "print(y_train[100])"
   ]
  },
  {
   "cell_type": "code",
   "execution_count": 6,
   "metadata": {
    "scrolled": true
   },
   "outputs": [
    {
     "name": "stdout",
     "output_type": "stream",
     "text": [
      "Model: \"sequential\"\n",
      "_________________________________________________________________\n",
      " Layer (type)                Output Shape              Param #   \n",
      "=================================================================\n",
      " conv2d (Conv2D)             (None, 127, 681, 16)      80        \n",
      "                                                                 \n",
      " max_pooling2d (MaxPooling2D  (None, 63, 340, 16)      0         \n",
      " )                                                               \n",
      "                                                                 \n",
      " dropout (Dropout)           (None, 63, 340, 16)       0         \n",
      "                                                                 \n",
      " conv2d_1 (Conv2D)           (None, 62, 339, 32)       2080      \n",
      "                                                                 \n",
      " max_pooling2d_1 (MaxPooling  (None, 31, 169, 32)      0         \n",
      " 2D)                                                             \n",
      "                                                                 \n",
      " dropout_1 (Dropout)         (None, 31, 169, 32)       0         \n",
      "                                                                 \n",
      " conv2d_2 (Conv2D)           (None, 30, 168, 64)       8256      \n",
      "                                                                 \n",
      " max_pooling2d_2 (MaxPooling  (None, 15, 84, 64)       0         \n",
      " 2D)                                                             \n",
      "                                                                 \n",
      " dropout_2 (Dropout)         (None, 15, 84, 64)        0         \n",
      "                                                                 \n",
      " global_average_pooling2d (G  (None, 64)               0         \n",
      " lobalAveragePooling2D)                                          \n",
      "                                                                 \n",
      " dense (Dense)               (None, 2)                 130       \n",
      "                                                                 \n",
      "=================================================================\n",
      "Total params: 10,546\n",
      "Trainable params: 10,546\n",
      "Non-trainable params: 0\n",
      "_________________________________________________________________\n"
     ]
    }
   ],
   "source": [
    "# Feature dimension\n",
    "epochs = 50\n",
    "batch_size = 128\n",
    "num_classes = 2\n",
    "\n",
    "# model\n",
    "model = Sequential()\n",
    "model.add(Conv2D(filters=16, kernel_size=2, input_shape=(n_mfcc, max_len_nfft, 1), activation='relu'))\n",
    "model.add(MaxPooling2D(pool_size=2))\n",
    "model.add(Dropout(0.2))\n",
    "\n",
    "model.add(Conv2D(filters=32, kernel_size=2, activation='relu'))\n",
    "model.add(MaxPooling2D(pool_size=2))\n",
    "model.add(Dropout(0.2))\n",
    "\n",
    "model.add(Conv2D(filters=64, kernel_size=2, activation='relu'))\n",
    "model.add(MaxPooling2D(pool_size=2))\n",
    "model.add(Dropout(0.2))\n",
    "model.add(GlobalAveragePooling2D())\n",
    "\n",
    "model.add(Dense(num_classes, activation='softmax'))\n",
    "model.summary()"
   ]
  },
  {
   "cell_type": "code",
   "execution_count": 7,
   "metadata": {},
   "outputs": [],
   "source": [
    "# adding loss and optimizer\n",
    "model.compile(loss=\"SparseCategoricalCrossentropy\",\n",
    "                  optimizer=\"adam\",\n",
    "                  metrics=['accuracy'])"
   ]
  },
  {
   "cell_type": "code",
   "execution_count": 8,
   "metadata": {},
   "outputs": [
    {
     "name": "stdout",
     "output_type": "stream",
     "text": [
      "Epoch 1/50\n",
      "83/83 [==============================] - 271s 3s/step - loss: 0.6975 - accuracy: 0.5413 - val_loss: 0.6585 - val_accuracy: 0.6617\n",
      "Epoch 2/50\n",
      "83/83 [==============================] - 273s 3s/step - loss: 0.5934 - accuracy: 0.7127 - val_loss: 0.5418 - val_accuracy: 0.7828\n",
      "Epoch 3/50\n",
      "83/83 [==============================] - 272s 3s/step - loss: 0.5164 - accuracy: 0.7699 - val_loss: 0.4905 - val_accuracy: 0.7843\n",
      "Epoch 4/50\n",
      "83/83 [==============================] - 272s 3s/step - loss: 0.4605 - accuracy: 0.7898 - val_loss: 0.4487 - val_accuracy: 0.7955\n",
      "Epoch 5/50\n",
      "83/83 [==============================] - 295s 4s/step - loss: 0.4181 - accuracy: 0.8100 - val_loss: 0.3930 - val_accuracy: 0.8329\n",
      "Epoch 6/50\n",
      "83/83 [==============================] - 272s 3s/step - loss: 0.4005 - accuracy: 0.8197 - val_loss: 0.3819 - val_accuracy: 0.8372\n",
      "Epoch 7/50\n",
      "83/83 [==============================] - 273s 3s/step - loss: 0.3919 - accuracy: 0.8245 - val_loss: 0.3941 - val_accuracy: 0.8306\n",
      "Epoch 8/50\n",
      "83/83 [==============================] - 275s 3s/step - loss: 0.3836 - accuracy: 0.8260 - val_loss: 0.3585 - val_accuracy: 0.8542\n",
      "Epoch 9/50\n",
      "83/83 [==============================] - 273s 3s/step - loss: 0.3597 - accuracy: 0.8416 - val_loss: 0.3414 - val_accuracy: 0.8565\n",
      "Epoch 10/50\n",
      "83/83 [==============================] - 274s 3s/step - loss: 0.3545 - accuracy: 0.8424 - val_loss: 0.3240 - val_accuracy: 0.8630\n",
      "Epoch 11/50\n",
      "83/83 [==============================] - 276s 3s/step - loss: 0.3441 - accuracy: 0.8491 - val_loss: 0.3269 - val_accuracy: 0.8603\n",
      "Epoch 12/50\n",
      "83/83 [==============================] - 279s 3s/step - loss: 0.3423 - accuracy: 0.8495 - val_loss: 0.3289 - val_accuracy: 0.8592\n",
      "Epoch 13/50\n",
      "83/83 [==============================] - 287s 3s/step - loss: 0.3338 - accuracy: 0.8526 - val_loss: 0.3135 - val_accuracy: 0.8665\n",
      "Epoch 14/50\n",
      "83/83 [==============================] - 300s 4s/step - loss: 0.3182 - accuracy: 0.8612 - val_loss: 0.2940 - val_accuracy: 0.8789\n",
      "Epoch 15/50\n",
      "83/83 [==============================] - 315s 4s/step - loss: 0.3095 - accuracy: 0.8629 - val_loss: 0.2870 - val_accuracy: 0.8831\n",
      "Epoch 16/50\n",
      "83/83 [==============================] - 324s 4s/step - loss: 0.3032 - accuracy: 0.8664 - val_loss: 0.2777 - val_accuracy: 0.8873\n",
      "Epoch 17/50\n",
      "83/83 [==============================] - 311s 4s/step - loss: 0.2985 - accuracy: 0.8691 - val_loss: 0.2748 - val_accuracy: 0.8850\n",
      "Epoch 18/50\n",
      "83/83 [==============================] - 349s 4s/step - loss: 0.2835 - accuracy: 0.8761 - val_loss: 0.2763 - val_accuracy: 0.8789\n",
      "Epoch 19/50\n",
      "83/83 [==============================] - 367s 4s/step - loss: 0.2820 - accuracy: 0.8761 - val_loss: 0.2581 - val_accuracy: 0.8916\n",
      "Epoch 20/50\n",
      "83/83 [==============================] - 382s 5s/step - loss: 0.2714 - accuracy: 0.8825 - val_loss: 0.2962 - val_accuracy: 0.8692\n",
      "Epoch 21/50\n",
      "83/83 [==============================] - 365s 4s/step - loss: 0.2669 - accuracy: 0.8825 - val_loss: 0.2860 - val_accuracy: 0.8762\n",
      "Epoch 22/50\n",
      "83/83 [==============================] - 357s 4s/step - loss: 0.2571 - accuracy: 0.8893 - val_loss: 0.2631 - val_accuracy: 0.8831\n",
      "Epoch 23/50\n",
      "83/83 [==============================] - 363s 4s/step - loss: 0.2777 - accuracy: 0.8783 - val_loss: 0.2538 - val_accuracy: 0.8912\n",
      "Epoch 24/50\n",
      "83/83 [==============================] - 394s 5s/step - loss: 0.2455 - accuracy: 0.8923 - val_loss: 0.2801 - val_accuracy: 0.8742\n",
      "Epoch 25/50\n",
      "83/83 [==============================] - 405s 5s/step - loss: 0.2403 - accuracy: 0.8960 - val_loss: 0.2236 - val_accuracy: 0.9032\n",
      "Epoch 26/50\n",
      "83/83 [==============================] - 386s 5s/step - loss: 0.2393 - accuracy: 0.8930 - val_loss: 0.3342 - val_accuracy: 0.8453\n",
      "Epoch 27/50\n",
      "83/83 [==============================] - 382s 5s/step - loss: 0.2312 - accuracy: 0.8977 - val_loss: 0.2403 - val_accuracy: 0.8839\n",
      "Epoch 28/50\n",
      "83/83 [==============================] - 370s 4s/step - loss: 0.2247 - accuracy: 0.9025 - val_loss: 0.2752 - val_accuracy: 0.8715\n",
      "Epoch 29/50\n",
      "83/83 [==============================] - 368s 4s/step - loss: 0.2244 - accuracy: 0.9052 - val_loss: 0.2125 - val_accuracy: 0.9109\n",
      "Epoch 30/50\n",
      "83/83 [==============================] - 385s 5s/step - loss: 0.2149 - accuracy: 0.9097 - val_loss: 0.2525 - val_accuracy: 0.8796\n",
      "Epoch 31/50\n",
      "83/83 [==============================] - 388s 5s/step - loss: 0.2139 - accuracy: 0.9088 - val_loss: 0.2217 - val_accuracy: 0.9032\n",
      "Epoch 32/50\n",
      "83/83 [==============================] - 393s 5s/step - loss: 0.2147 - accuracy: 0.9103 - val_loss: 0.1864 - val_accuracy: 0.9228\n",
      "Epoch 33/50\n",
      "83/83 [==============================] - 384s 5s/step - loss: 0.2067 - accuracy: 0.9117 - val_loss: 0.2758 - val_accuracy: 0.8746\n",
      "Epoch 34/50\n",
      "83/83 [==============================] - 375s 5s/step - loss: 0.1983 - accuracy: 0.9175 - val_loss: 0.2053 - val_accuracy: 0.9090\n",
      "Epoch 35/50\n",
      "83/83 [==============================] - 377s 5s/step - loss: 0.1946 - accuracy: 0.9202 - val_loss: 0.2570 - val_accuracy: 0.8823\n",
      "Epoch 36/50\n",
      "83/83 [==============================] - 395s 5s/step - loss: 0.1938 - accuracy: 0.9206 - val_loss: 0.1684 - val_accuracy: 0.9294\n",
      "Epoch 37/50\n",
      "83/83 [==============================] - 390s 5s/step - loss: 0.1877 - accuracy: 0.9227 - val_loss: 0.1754 - val_accuracy: 0.9267\n",
      "Epoch 38/50\n",
      "83/83 [==============================] - 390s 5s/step - loss: 0.1848 - accuracy: 0.9229 - val_loss: 0.2688 - val_accuracy: 0.8742\n",
      "Epoch 39/50\n",
      "83/83 [==============================] - 376s 5s/step - loss: 0.1850 - accuracy: 0.9261 - val_loss: 0.1852 - val_accuracy: 0.9221\n",
      "Epoch 40/50\n",
      "83/83 [==============================] - 372s 4s/step - loss: 0.1733 - accuracy: 0.9302 - val_loss: 0.2021 - val_accuracy: 0.9120\n",
      "Epoch 41/50\n",
      "83/83 [==============================] - 384s 5s/step - loss: 0.1892 - accuracy: 0.9217 - val_loss: 0.1509 - val_accuracy: 0.9371\n",
      "Epoch 42/50\n",
      "83/83 [==============================] - 383s 5s/step - loss: 0.1810 - accuracy: 0.9266 - val_loss: 0.2092 - val_accuracy: 0.9101\n",
      "Epoch 43/50\n",
      "83/83 [==============================] - 415s 5s/step - loss: 0.1782 - accuracy: 0.9263 - val_loss: 0.1700 - val_accuracy: 0.9313\n",
      "Epoch 44/50\n",
      "83/83 [==============================] - 380s 5s/step - loss: 0.1738 - accuracy: 0.9300 - val_loss: 0.2255 - val_accuracy: 0.8993\n",
      "Epoch 45/50\n",
      "83/83 [==============================] - 359s 4s/step - loss: 0.1650 - accuracy: 0.9332 - val_loss: 0.1807 - val_accuracy: 0.9259\n",
      "Epoch 46/50\n",
      "83/83 [==============================] - 370s 4s/step - loss: 0.1701 - accuracy: 0.9305 - val_loss: 0.1882 - val_accuracy: 0.9182\n",
      "Epoch 47/50\n",
      "83/83 [==============================] - 356s 4s/step - loss: 0.1583 - accuracy: 0.9386 - val_loss: 0.1638 - val_accuracy: 0.9325\n",
      "Epoch 48/50\n",
      "83/83 [==============================] - 351s 4s/step - loss: 0.1678 - accuracy: 0.9340 - val_loss: 0.2515 - val_accuracy: 0.8897\n",
      "Epoch 49/50\n",
      "83/83 [==============================] - 381s 5s/step - loss: 0.1529 - accuracy: 0.9403 - val_loss: 0.1322 - val_accuracy: 0.9491\n",
      "Epoch 50/50\n",
      "83/83 [==============================] - 366s 4s/step - loss: 0.1604 - accuracy: 0.9362 - val_loss: 0.2631 - val_accuracy: 0.8885\n"
     ]
    },
    {
     "data": {
      "text/plain": [
       "<keras.callbacks.History at 0x2b8ce2b8be0>"
      ]
     },
     "execution_count": 8,
     "metadata": {},
     "output_type": "execute_result"
    }
   ],
   "source": [
    "# training the model\n",
    "model.fit(X_train, y_train, epochs=epochs, batch_size=batch_size, validation_data=(X_test, y_test), shuffle=True)"
   ]
  },
  {
   "cell_type": "code",
   "execution_count": 9,
   "metadata": {},
   "outputs": [
    {
     "name": "stdout",
     "output_type": "stream",
     "text": [
      "INFO:tensorflow:Assets written to: ./Models/Trigger Word Detection Model\\assets\n"
     ]
    }
   ],
   "source": [
    "model.save(\"./Models/Trigger Word Detection Model\")"
   ]
  }
 ],
 "metadata": {
  "kernelspec": {
   "display_name": "Python 3",
   "language": "python",
   "name": "python3"
  },
  "language_info": {
   "codemirror_mode": {
    "name": "ipython",
    "version": 3
   },
   "file_extension": ".py",
   "mimetype": "text/x-python",
   "name": "python",
   "nbconvert_exporter": "python",
   "pygments_lexer": "ipython3",
   "version": "3.8.5"
  }
 },
 "nbformat": 4,
 "nbformat_minor": 2
}
